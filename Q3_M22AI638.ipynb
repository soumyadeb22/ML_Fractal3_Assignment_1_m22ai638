{
 "cells": [
  {
   "cell_type": "code",
   "execution_count": 1,
   "metadata": {
    "collapsed": true
   },
   "outputs": [],
   "source": [
    "import numpy as np\n",
    "import tensorflow as tf\n",
    "\n",
    "from keras.models import Sequential\n",
    "import pandas as pd\n",
    "from matplotlib import pyplot as plt\n",
    "%matplotlib inline\n",
    "import os\n",
    "import cv2\n",
    "from keras.layers import Dense, Conv2D, MaxPooling2D, Flatten,GlobalAveragePooling2D\n",
    "\n",
    "from sklearn.preprocessing import LabelEncoder\n",
    "from sklearn.metrics import confusion_matrix, classification_report\n",
    "from sklearn.model_selection import train_test_split"
   ]
  },
  {
   "cell_type": "code",
   "execution_count": 2,
   "outputs": [],
   "source": [
    "\n",
    "train_val_dir = \"C:\\\\Users\\\\soumy\\\\Documents\\\\Coading\\\\Q3\\\\train_val\"\n",
    "test_dir = \"C:\\\\Users\\\\soumy\\\\Documents\\\\Coading\\\\Q3\\\\test\"\n",
    "train_val_labels = pd.read_csv('train_val.csv')"
   ],
   "metadata": {
    "collapsed": false
   }
  },
  {
   "cell_type": "code",
   "execution_count": 60,
   "outputs": [],
   "source": [
    "\n",
    "images_tr = []\n",
    "labels_tr = []\n",
    "for filename in os.listdir(train_val_dir):\n",
    "    if filename.endswith('.png'):\n",
    "\n",
    "        img = cv2.imread(os.path.join(train_val_dir, filename))\n",
    "        img = cv2.resize(img, (128, 128))\n",
    "        img = cv2.cvtColor(img, cv2.COLOR_BGR2RGB)\n",
    "\n",
    "\n",
    "        img_array = np.array(img)\n",
    "\n",
    "        images_tr.append(img_array)\n",
    "        labels_tr.append(filename)\n",
    "\n",
    "\n",
    "le = LabelEncoder()\n",
    "labels = le.fit_transform(labels_tr)\n",
    "\n",
    "\n",
    "images_tr = np.array(images_tr)\n",
    "labels_tr = np.array(labels_tr)\n",
    "\n",
    "np.save('x_train.npy', images_tr)\n",
    "np.save('y_train.npy', labels_tr)\n",
    "x_train = np.load('x_train.npy')\n",
    "y_train = np.load('y_train.npy')"
   ],
   "metadata": {
    "collapsed": false
   }
  },
  {
   "cell_type": "code",
   "execution_count": 61,
   "outputs": [],
   "source": [
    "\n",
    "images_v = []\n",
    "labels_v = []\n",
    "for filename in os.listdir(test_dir):\n",
    "    if filename.endswith('.png'):\n",
    "\n",
    "\n",
    "        img = cv2.imread(os.path.join(test_dir, filename))\n",
    "        img = cv2.resize(img, (128, 128))\n",
    "        img = cv2.cvtColor(img, cv2.COLOR_BGR2RGB)\n",
    "\n",
    "\n",
    "        img_array = np.array(img)\n",
    "\n",
    "        images_v.append(img_array)\n",
    "        labels_v.append(filename)\n",
    "\n",
    "le = LabelEncoder()\n",
    "labels = le.fit_transform(labels)\n",
    "\n",
    "\n",
    "images_v = np.array(images_v)\n",
    "labels_v = np.array(labels_v)\n",
    "\n",
    "np.save('x_test.npy', images_v)\n",
    "np.save('y_test.npy', labels_v)\n",
    "x_test = np.load('x_test.npy')\n",
    "y_test = np.load('y_test.npy')\n"
   ],
   "metadata": {
    "collapsed": false
   }
  },
  {
   "cell_type": "code",
   "execution_count": 62,
   "outputs": [],
   "source": [
    "\n",
    "image_classes = ['line', 'dot_line', 'hbar_categorical', 'vbar_categorical', 'pie']\n"
   ],
   "metadata": {
    "collapsed": false
   }
  },
  {
   "cell_type": "code",
   "execution_count": 63,
   "outputs": [
    {
     "data": {
      "text/plain": "(50,)"
     },
     "execution_count": 63,
     "metadata": {},
     "output_type": "execute_result"
    }
   ],
   "source": [
    "\n",
    "\n",
    "label_map = {'line': 0, 'dot_line': 1, 'hbar_categorical': 2, 'vbar_categorical': 3, 'pie': 4}\n",
    "y_train = np.array([label_map[label] for label in train_val_labels['type']])\n",
    "y_train\n",
    "y_train.shape\n",
    "y_test.shape\n"
   ],
   "metadata": {
    "collapsed": false
   }
  },
  {
   "cell_type": "code",
   "execution_count": 64,
   "outputs": [],
   "source": [
    "\n",
    "def image_sample(x, y, index):\n",
    "    plt.figure(figsize = (10,2))\n",
    "    plt.imshow(x[index])\n",
    "\n",
    "    plt.xlabel(image_classes[y[index]])"
   ],
   "metadata": {
    "collapsed": false
   }
  },
  {
   "cell_type": "code",
   "execution_count": 65,
   "outputs": [],
   "source": [
    "#scaling\n",
    "x_train=x_train /255\n",
    "x_test=x_train /255"
   ],
   "metadata": {
    "collapsed": false
   }
  },
  {
   "cell_type": "code",
   "execution_count": 66,
   "outputs": [],
   "source": [
    "y_train_index = train_val_labels['image_index']\n",
    "y_train_type = train_val_labels['type']"
   ],
   "metadata": {
    "collapsed": false
   }
  },
  {
   "cell_type": "code",
   "execution_count": 67,
   "outputs": [
    {
     "name": "stdout",
     "output_type": "stream",
     "text": [
      "Epoch 1/5\n",
      "32/32 [==============================] - 5s 134ms/step - loss: 7.2543 - accuracy: 0.2070\n",
      "Epoch 2/5\n",
      "32/32 [==============================] - 4s 133ms/step - loss: 1.7003 - accuracy: 0.2030\n",
      "Epoch 3/5\n",
      "32/32 [==============================] - 4s 137ms/step - loss: 1.6688 - accuracy: 0.2210\n",
      "Epoch 4/5\n",
      "32/32 [==============================] - 4s 134ms/step - loss: 1.6481 - accuracy: 0.2640\n",
      "Epoch 5/5\n",
      "32/32 [==============================] - 4s 136ms/step - loss: 1.6425 - accuracy: 0.2750\n"
     ]
    },
    {
     "data": {
      "text/plain": "<keras.callbacks.History at 0x1f9521cc460>"
     },
     "execution_count": 67,
     "metadata": {},
     "output_type": "execute_result"
    }
   ],
   "source": [
    "model = Sequential([\n",
    "    Flatten(input_shape=(128,128,3)),\n",
    "    Dense(2000, activation='relu'),\n",
    "    Dense(1000, activation='relu'),\n",
    "    Dense(10, activation='softmax')\n",
    "])\n",
    "# Compile the model\n",
    "model.compile(optimizer='SGD', loss='sparse_categorical_crossentropy', metrics=['accuracy'])\n",
    "model.fit(x_train,y_train,epochs=5)"
   ],
   "metadata": {
    "collapsed": false
   }
  },
  {
   "cell_type": "code",
   "execution_count": 50,
   "outputs": [],
   "source": [
    "\n",
    "x_train, x_test, y_train, y_test = train_test_split(x_train, y_train, test_size=0.2, random_state=42)\n"
   ],
   "metadata": {
    "collapsed": false
   }
  },
  {
   "cell_type": "code",
   "execution_count": 51,
   "outputs": [
    {
     "name": "stdout",
     "output_type": "stream",
     "text": [
      "7/7 [==============================] - 3s 42ms/step - loss: 2.0098 - accuracy: 0.1650\n"
     ]
    },
    {
     "data": {
      "text/plain": "[2.0097625255584717, 0.16500000655651093]"
     },
     "execution_count": 51,
     "metadata": {},
     "output_type": "execute_result"
    }
   ],
   "source": [
    "model.evaluate(x_test,y_test)"
   ],
   "metadata": {
    "collapsed": false
   }
  },
  {
   "cell_type": "code",
   "execution_count": 52,
   "outputs": [
    {
     "name": "stdout",
     "output_type": "stream",
     "text": [
      "7/7 [==============================] - 0s 39ms/step\n"
     ]
    }
   ],
   "source": [
    "y_pred = model.predict(x_test)\n",
    "y_pred\n",
    "y_pred_classes = [np.argmax(ele) for ele in y_pred]"
   ],
   "metadata": {
    "collapsed": false
   }
  },
  {
   "cell_type": "code",
   "execution_count": 53,
   "outputs": [
    {
     "name": "stdout",
     "output_type": "stream",
     "text": [
      "Epoch 1/50\n",
      "WARNING:tensorflow:6 out of the last 165 calls to <function Model.make_train_function.<locals>.train_function at 0x000001F94F192040> triggered tf.function retracing. Tracing is expensive and the excessive number of tracings could be due to (1) creating @tf.function repeatedly in a loop, (2) passing tensors with different shapes, (3) passing Python objects instead of tensors. For (1), please define your @tf.function outside of the loop. For (2), @tf.function has reduce_retracing=True option that can avoid unnecessary retracing. For (3), please refer to https://www.tensorflow.org/guide/function#controlling_retracing and https://www.tensorflow.org/api_docs/python/tf/function for  more details.\n",
      "1/1 [==============================] - 3s 3s/step - loss: 1.6094 - accuracy: 0.2025 - val_loss: 1.6099 - val_accuracy: 0.1650\n",
      "Epoch 2/50\n",
      "1/1 [==============================] - 2s 2s/step - loss: 1.6093 - accuracy: 0.2087 - val_loss: 1.6113 - val_accuracy: 0.1650\n",
      "Epoch 3/50\n",
      "1/1 [==============================] - 1s 1s/step - loss: 1.6091 - accuracy: 0.2087 - val_loss: 1.6142 - val_accuracy: 0.1650\n",
      "Epoch 4/50\n",
      "1/1 [==============================] - 1s 1s/step - loss: 1.6089 - accuracy: 0.2087 - val_loss: 1.6184 - val_accuracy: 0.1650\n",
      "Epoch 5/50\n",
      "1/1 [==============================] - 1s 1s/step - loss: 1.6091 - accuracy: 0.2087 - val_loss: 1.6169 - val_accuracy: 0.1650\n",
      "Epoch 6/50\n",
      "1/1 [==============================] - 1s 1s/step - loss: 1.6090 - accuracy: 0.2087 - val_loss: 1.6146 - val_accuracy: 0.1650\n",
      "Epoch 7/50\n",
      "1/1 [==============================] - 1s 1s/step - loss: 1.6089 - accuracy: 0.2087 - val_loss: 1.6133 - val_accuracy: 0.1650\n",
      "Epoch 8/50\n",
      "1/1 [==============================] - 1s 1s/step - loss: 1.6089 - accuracy: 0.2087 - val_loss: 1.6127 - val_accuracy: 0.1650\n",
      "Epoch 9/50\n",
      "1/1 [==============================] - 1s 1s/step - loss: 1.6089 - accuracy: 0.2087 - val_loss: 1.6127 - val_accuracy: 0.1650\n",
      "Epoch 10/50\n",
      "1/1 [==============================] - 1s 1s/step - loss: 1.6089 - accuracy: 0.2087 - val_loss: 1.6130 - val_accuracy: 0.1650\n",
      "Epoch 11/50\n",
      "1/1 [==============================] - 2s 2s/step - loss: 1.6089 - accuracy: 0.2087 - val_loss: 1.6136 - val_accuracy: 0.1650\n",
      "Epoch 12/50\n",
      "1/1 [==============================] - 2s 2s/step - loss: 1.6089 - accuracy: 0.2087 - val_loss: 1.6144 - val_accuracy: 0.1650\n",
      "Epoch 13/50\n",
      "1/1 [==============================] - 1s 1s/step - loss: 1.6089 - accuracy: 0.2087 - val_loss: 1.6151 - val_accuracy: 0.1650\n",
      "Epoch 14/50\n",
      "1/1 [==============================] - 1s 1s/step - loss: 1.6089 - accuracy: 0.2087 - val_loss: 1.6156 - val_accuracy: 0.1650\n",
      "Epoch 15/50\n",
      "1/1 [==============================] - 1s 1s/step - loss: 1.6089 - accuracy: 0.2087 - val_loss: 1.6156 - val_accuracy: 0.1650\n",
      "Epoch 16/50\n",
      "1/1 [==============================] - 2s 2s/step - loss: 1.6089 - accuracy: 0.2087 - val_loss: 1.6152 - val_accuracy: 0.1650\n",
      "Epoch 17/50\n",
      "1/1 [==============================] - 2s 2s/step - loss: 1.6089 - accuracy: 0.2087 - val_loss: 1.6146 - val_accuracy: 0.1650\n",
      "Epoch 18/50\n",
      "1/1 [==============================] - 1s 1s/step - loss: 1.6089 - accuracy: 0.2087 - val_loss: 1.6142 - val_accuracy: 0.1650\n",
      "Epoch 19/50\n",
      "1/1 [==============================] - 2s 2s/step - loss: 1.6089 - accuracy: 0.2087 - val_loss: 1.6139 - val_accuracy: 0.1650\n",
      "Epoch 20/50\n",
      "1/1 [==============================] - 2s 2s/step - loss: 1.6089 - accuracy: 0.2087 - val_loss: 1.6138 - val_accuracy: 0.1650\n",
      "Epoch 21/50\n",
      "1/1 [==============================] - 1s 1s/step - loss: 1.6089 - accuracy: 0.2087 - val_loss: 1.6139 - val_accuracy: 0.1650\n",
      "Epoch 22/50\n",
      "1/1 [==============================] - 1s 1s/step - loss: 1.6089 - accuracy: 0.2087 - val_loss: 1.6141 - val_accuracy: 0.1650\n",
      "Epoch 23/50\n",
      "1/1 [==============================] - 2s 2s/step - loss: 1.6089 - accuracy: 0.2087 - val_loss: 1.6143 - val_accuracy: 0.1650\n",
      "Epoch 24/50\n",
      "1/1 [==============================] - 1s 1s/step - loss: 1.6089 - accuracy: 0.2087 - val_loss: 1.6145 - val_accuracy: 0.1650\n",
      "Epoch 25/50\n",
      "1/1 [==============================] - 1s 1s/step - loss: 1.6089 - accuracy: 0.2087 - val_loss: 1.6147 - val_accuracy: 0.1650\n",
      "Epoch 26/50\n",
      "1/1 [==============================] - 1s 1s/step - loss: 1.6089 - accuracy: 0.2087 - val_loss: 1.6148 - val_accuracy: 0.1650\n",
      "Epoch 27/50\n",
      "1/1 [==============================] - 1s 1s/step - loss: 1.6089 - accuracy: 0.2087 - val_loss: 1.6148 - val_accuracy: 0.1650\n",
      "Epoch 28/50\n",
      "1/1 [==============================] - 1s 1s/step - loss: 1.6089 - accuracy: 0.2087 - val_loss: 1.6147 - val_accuracy: 0.1650\n",
      "Epoch 29/50\n",
      "1/1 [==============================] - 2s 2s/step - loss: 1.6089 - accuracy: 0.2087 - val_loss: 1.6146 - val_accuracy: 0.1650\n",
      "Epoch 30/50\n",
      "1/1 [==============================] - 1s 1s/step - loss: 1.6089 - accuracy: 0.2087 - val_loss: 1.6145 - val_accuracy: 0.1650\n",
      "Epoch 31/50\n",
      "1/1 [==============================] - 2s 2s/step - loss: 1.6089 - accuracy: 0.2087 - val_loss: 1.6144 - val_accuracy: 0.1650\n",
      "Epoch 32/50\n",
      "1/1 [==============================] - 1s 1s/step - loss: 1.6089 - accuracy: 0.2087 - val_loss: 1.6143 - val_accuracy: 0.1650\n",
      "Epoch 33/50\n",
      "1/1 [==============================] - 1s 1s/step - loss: 1.6089 - accuracy: 0.2087 - val_loss: 1.6143 - val_accuracy: 0.1650\n",
      "Epoch 34/50\n",
      "1/1 [==============================] - 1s 1s/step - loss: 1.6089 - accuracy: 0.2087 - val_loss: 1.6143 - val_accuracy: 0.1650\n",
      "Epoch 35/50\n",
      "1/1 [==============================] - 2s 2s/step - loss: 1.6089 - accuracy: 0.2087 - val_loss: 1.6143 - val_accuracy: 0.1650\n",
      "Epoch 36/50\n",
      "1/1 [==============================] - 1s 1s/step - loss: 1.6089 - accuracy: 0.2087 - val_loss: 1.6143 - val_accuracy: 0.1650\n",
      "Epoch 37/50\n",
      "1/1 [==============================] - 1s 1s/step - loss: 1.6089 - accuracy: 0.2087 - val_loss: 1.6144 - val_accuracy: 0.1650\n",
      "Epoch 38/50\n",
      "1/1 [==============================] - 1s 1s/step - loss: 1.6089 - accuracy: 0.2087 - val_loss: 1.6145 - val_accuracy: 0.1650\n",
      "Epoch 39/50\n",
      "1/1 [==============================] - 2s 2s/step - loss: 1.6089 - accuracy: 0.2087 - val_loss: 1.6145 - val_accuracy: 0.1650\n",
      "Epoch 40/50\n",
      "1/1 [==============================] - 1s 1s/step - loss: 1.6089 - accuracy: 0.2087 - val_loss: 1.6146 - val_accuracy: 0.1650\n",
      "Epoch 41/50\n",
      "1/1 [==============================] - 1s 1s/step - loss: 1.6089 - accuracy: 0.2087 - val_loss: 1.6146 - val_accuracy: 0.1650\n",
      "Epoch 42/50\n",
      "1/1 [==============================] - 1s 1s/step - loss: 1.6089 - accuracy: 0.2087 - val_loss: 1.6145 - val_accuracy: 0.1650\n",
      "Epoch 43/50\n",
      "1/1 [==============================] - 1s 1s/step - loss: 1.6089 - accuracy: 0.2087 - val_loss: 1.6145 - val_accuracy: 0.1650\n",
      "Epoch 44/50\n",
      "1/1 [==============================] - 1s 1s/step - loss: 1.6089 - accuracy: 0.2087 - val_loss: 1.6145 - val_accuracy: 0.1650\n",
      "Epoch 45/50\n",
      "1/1 [==============================] - 1s 1s/step - loss: 1.6089 - accuracy: 0.2087 - val_loss: 1.6144 - val_accuracy: 0.1650\n",
      "Epoch 46/50\n",
      "1/1 [==============================] - 1s 1s/step - loss: 1.6089 - accuracy: 0.2087 - val_loss: 1.6144 - val_accuracy: 0.1650\n",
      "Epoch 47/50\n",
      "1/1 [==============================] - 2s 2s/step - loss: 1.6089 - accuracy: 0.2087 - val_loss: 1.6144 - val_accuracy: 0.1650\n",
      "Epoch 48/50\n",
      "1/1 [==============================] - 1s 1s/step - loss: 1.6089 - accuracy: 0.2087 - val_loss: 1.6144 - val_accuracy: 0.1650\n",
      "Epoch 49/50\n",
      "1/1 [==============================] - 1s 1s/step - loss: 1.6089 - accuracy: 0.2087 - val_loss: 1.6144 - val_accuracy: 0.1650\n",
      "Epoch 50/50\n",
      "1/1 [==============================] - 1s 1s/step - loss: 1.6089 - accuracy: 0.2087 - val_loss: 1.6144 - val_accuracy: 0.1650\n"
     ]
    }
   ],
   "source": [
    "\n",
    "model_cnn = Sequential([\n",
    "    Conv2D(filters=16 ,kernel_size=(3,3), activation='relu', input_shape=(128,128,3)),\n",
    "    MaxPooling2D(pool_size=(2,2)),\n",
    "    Conv2D(32, (3,3), activation='relu'),\n",
    "    MaxPooling2D(pool_size=(2,2)),\n",
    "    Conv2D(64, (3,3), activation='relu'),\n",
    "    MaxPooling2D(pool_size=(2,2)),\n",
    "    Flatten(),\n",
    "    Dense(128, activation='relu'),\n",
    "    Dense(5, activation='softmax')\n",
    "])\n",
    "\n",
    "model_cnn.compile(optimizer='adam', loss='sparse_categorical_crossentropy', metrics=['accuracy'])\n",
    "\n",
    "his = model_cnn.fit(x_train, y_train, batch_size=1000, epochs=20,validation_data=(x_test, y_test))"
   ],
   "metadata": {
    "collapsed": false
   }
  },
  {
   "cell_type": "code",
   "execution_count": 17,
   "outputs": [
    {
     "data": {
      "text/plain": "<Figure size 432x288 with 1 Axes>",
      "image/png": "[encoded data removed]"
     },
     "metadata": {
      "needs_background": "light"
     },
     "output_type": "display_data"
    }
   ],
   "source": [
    "plt.plot(his.history['loss'])\n",
    "plt.plot(his.history['val_loss'])\n",
    "plt.title('Model Loss')\n",
    "plt.ylabel('Loss')\n",
    "plt.xlabel('Epoch')\n",
    "plt.legend(['Train', 'Validation'], loc='upper right')\n",
    "plt.show()"
   ],
   "metadata": {
    "collapsed": false
   }
  },
  {
   "cell_type": "code",
   "execution_count": 18,
   "outputs": [
    {
     "name": "stdout",
     "output_type": "stream",
     "text": [
      "7/7 [==============================] - 0s 12ms/step - loss: 1.1211 - accuracy: 0.6100\n"
     ]
    },
    {
     "data": {
      "text/plain": "[1.1210540533065796, 0.6100000143051147]"
     },
     "execution_count": 18,
     "metadata": {},
     "output_type": "execute_result"
    }
   ],
   "source": [
    "model_cnn.evaluate(x_test,y_test)"
   ],
   "metadata": {
    "collapsed": false
   }
  },
  {
   "cell_type": "code",
   "execution_count": 19,
   "outputs": [
    {
     "name": "stdout",
     "output_type": "stream",
     "text": [
      "7/7 [==============================] - 0s 29ms/step\n"
     ]
    }
   ],
   "source": [
    "y_pred = model_cnn.predict(x_test)"
   ],
   "metadata": {
    "collapsed": false
   }
  },
  {
   "cell_type": "code",
   "execution_count": 20,
   "outputs": [],
   "source": [
    "y_classes = [np.argmax(element) for element in y_pred]"
   ],
   "metadata": {
    "collapsed": false
   }
  },
  {
   "cell_type": "code",
   "execution_count": 22,
   "outputs": [],
   "source": [
    "conf_mat = confusion_matrix(y_test, y_classes)"
   ],
   "metadata": {
    "collapsed": false
   }
  },
  {
   "cell_type": "code",
   "execution_count": 23,
   "outputs": [
    {
     "data": {
      "text/plain": "Text(70.0, 0.5, 'Actual')"
     },
     "execution_count": 23,
     "metadata": {},
     "output_type": "execute_result"
    },
    {
     "data": {
      "text/plain": "<Figure size 720x720 with 2 Axes>",
      "image/png": "[encoded data removed]"
     },
     "metadata": {
      "needs_background": "light"
     },
     "output_type": "display_data"
    }
   ],
   "source": [
    "import seaborn as sn\n",
    "plt.figure(figsize = (10,10))\n",
    "sn.heatmap(conf_mat,annot=True,fmt='d')\n",
    "plt.xlabel('Predicted')\n",
    "plt.ylabel('Actual')"
   ],
   "metadata": {
    "collapsed": false
   }
  },
  {
   "cell_type": "code",
   "execution_count": 25,
   "outputs": [],
   "source": [
    "from keras.applications import VGG16\n",
    "from keras.preprocessing.image import ImageDataGenerator\n",
    "\n",
    "\n",
    "vgg16_model = VGG16(weights='imagenet', include_top=False, input_shape=(224, 224, 3))"
   ],
   "metadata": {
    "collapsed": false
   }
  },
  {
   "cell_type": "code",
   "execution_count": 26,
   "outputs": [],
   "source": [
    "x = vgg16_model.output\n",
    "x = GlobalAveragePooling2D()(x)\n",
    "x = Dense(128, activation='relu')(x)\n",
    "predictions = Dense(5, activation='softmax')(x)\n",
    "pt_model = tf.keras.Model(inputs=vgg16_model.input, outputs=predictions)"
   ],
   "metadata": {
    "collapsed": false
   }
  },
  {
   "cell_type": "code",
   "execution_count": 27,
   "outputs": [],
   "source": [
    "for layer in pt_model.layers:\n",
    "    layer.trainable = False"
   ],
   "metadata": {
    "collapsed": false
   }
  },
  {
   "cell_type": "code",
   "execution_count": 28,
   "outputs": [],
   "source": [
    "pt_model.compile(loss='categorical_crossentropy', optimizer='adam', metrics=['accuracy'])\n"
   ],
   "metadata": {
    "collapsed": false
   }
  },
  {
   "cell_type": "code",
   "execution_count": 30,
   "outputs": [],
   "source": [
    "train_datagen = ImageDataGenerator(\n",
    "    rescale=1./255,\n",
    "    rotation_range=20,\n",
    "    width_shift_range=0.2,\n",
    "    height_shift_range=0.2,\n",
    "    shear_range=0.2,\n",
    "    zoom_range=0.2,\n",
    "    horizontal_flip=True,\n",
    "    fill_mode='nearest')\n",
    "test_datagen = ImageDataGenerator(rescale=1./255)"
   ],
   "metadata": {
    "collapsed": false
   }
  },
  {
   "cell_type": "code",
   "execution_count": 31,
   "outputs": [],
   "source": [
    "train_generator = train_datagen.flow(x_train, y_train, batch_size=32)\n",
    "test_generator = train_datagen.flow(x_test, y_test, batch_size=32)"
   ],
   "metadata": {
    "collapsed": false
   }
  },
  {
   "cell_type": "code",
   "execution_count": 32,
   "outputs": [],
   "source": [
    "from keras.callbacks import EarlyStopping"
   ],
   "metadata": {
    "collapsed": false
   }
  },
  {
   "cell_type": "code",
   "execution_count": 33,
   "outputs": [
    {
     "name": "stdout",
     "output_type": "stream",
     "text": [
      "Epoch 1/100\n"
     ]
    },
    {
     "ename": "ValueError",
     "evalue": "in user code:\n\n    File \"C:\\Users\\soumy\\anaconda3\\lib\\site-packages\\keras\\engine\\training.py\", line 1051, in train_function  *\n        return step_function(self, iterator)\n    File \"C:\\Users\\soumy\\anaconda3\\lib\\site-packages\\keras\\engine\\training.py\", line 1040, in step_function  **\n        outputs = model.distribute_strategy.run(run_step, args=(data,))\n    File \"C:\\Users\\soumy\\anaconda3\\lib\\site-packages\\keras\\engine\\training.py\", line 1030, in run_step  **\n        outputs = model.train_step(data)\n    File \"C:\\Users\\soumy\\anaconda3\\lib\\site-packages\\keras\\engine\\training.py\", line 890, in train_step\n        loss = self.compute_loss(x, y, y_pred, sample_weight)\n    File \"C:\\Users\\soumy\\anaconda3\\lib\\site-packages\\keras\\engine\\training.py\", line 948, in compute_loss\n        return self.compiled_loss(\n    File \"C:\\Users\\soumy\\anaconda3\\lib\\site-packages\\keras\\engine\\compile_utils.py\", line 201, in __call__\n        loss_value = loss_obj(y_t, y_p, sample_weight=sw)\n    File \"C:\\Users\\soumy\\anaconda3\\lib\\site-packages\\keras\\losses.py\", line 139, in __call__\n        losses = call_fn(y_true, y_pred)\n    File \"C:\\Users\\soumy\\anaconda3\\lib\\site-packages\\keras\\losses.py\", line 243, in call  **\n        return ag_fn(y_true, y_pred, **self._fn_kwargs)\n    File \"C:\\Users\\soumy\\anaconda3\\lib\\site-packages\\keras\\losses.py\", line 1787, in categorical_crossentropy\n        return backend.categorical_crossentropy(\n    File \"C:\\Users\\soumy\\anaconda3\\lib\\site-packages\\keras\\backend.py\", line 5119, in categorical_crossentropy\n        target.shape.assert_is_compatible_with(output.shape)\n\n    ValueError: Shapes (None, 1) and (None, 5) are incompatible\n",
     "output_type": "error",
     "traceback": [
      "\u001B[1;31m---------------------------------------------------------------------------\u001B[0m",
      "\u001B[1;31mValueError\u001B[0m                                Traceback (most recent call last)",
      "Cell \u001B[1;32mIn[33], line 2\u001B[0m\n\u001B[0;32m      1\u001B[0m es \u001B[38;5;241m=\u001B[39m EarlyStopping(monitor\u001B[38;5;241m=\u001B[39m\u001B[38;5;124m'\u001B[39m\u001B[38;5;124mval_loss\u001B[39m\u001B[38;5;124m'\u001B[39m, patience\u001B[38;5;241m=\u001B[39m\u001B[38;5;241m10\u001B[39m, verbose\u001B[38;5;241m=\u001B[39m\u001B[38;5;241m1\u001B[39m, mode\u001B[38;5;241m=\u001B[39m\u001B[38;5;124m'\u001B[39m\u001B[38;5;124mmin\u001B[39m\u001B[38;5;124m'\u001B[39m, restore_best_weights\u001B[38;5;241m=\u001B[39m\u001B[38;5;28;01mTrue\u001B[39;00m)\n\u001B[1;32m----> 2\u001B[0m history \u001B[38;5;241m=\u001B[39m \u001B[43mpt_model\u001B[49m\u001B[38;5;241;43m.\u001B[39;49m\u001B[43mfit\u001B[49m\u001B[43m(\u001B[49m\u001B[43mtrain_generator\u001B[49m\u001B[43m,\u001B[49m\u001B[43m \u001B[49m\u001B[43mepochs\u001B[49m\u001B[38;5;241;43m=\u001B[39;49m\u001B[38;5;241;43m100\u001B[39;49m\u001B[43m,\u001B[49m\u001B[43m \u001B[49m\u001B[43mvalidation_data\u001B[49m\u001B[38;5;241;43m=\u001B[39;49m\u001B[43mtest_generator\u001B[49m\u001B[43m,\u001B[49m\u001B[43m \u001B[49m\u001B[43mcallbacks\u001B[49m\u001B[38;5;241;43m=\u001B[39;49m\u001B[43m[\u001B[49m\u001B[43mes\u001B[49m\u001B[43m]\u001B[49m\u001B[43m)\u001B[49m\n",
      "File \u001B[1;32m~\\anaconda3\\lib\\site-packages\\keras\\utils\\traceback_utils.py:67\u001B[0m, in \u001B[0;36mfilter_traceback.<locals>.error_handler\u001B[1;34m(*args, **kwargs)\u001B[0m\n\u001B[0;32m     65\u001B[0m \u001B[38;5;28;01mexcept\u001B[39;00m \u001B[38;5;167;01mException\u001B[39;00m \u001B[38;5;28;01mas\u001B[39;00m e:  \u001B[38;5;66;03m# pylint: disable=broad-except\u001B[39;00m\n\u001B[0;32m     66\u001B[0m   filtered_tb \u001B[38;5;241m=\u001B[39m _process_traceback_frames(e\u001B[38;5;241m.\u001B[39m__traceback__)\n\u001B[1;32m---> 67\u001B[0m   \u001B[38;5;28;01mraise\u001B[39;00m e\u001B[38;5;241m.\u001B[39mwith_traceback(filtered_tb) \u001B[38;5;28;01mfrom\u001B[39;00m \u001B[38;5;28mNone\u001B[39m\n\u001B[0;32m     68\u001B[0m \u001B[38;5;28;01mfinally\u001B[39;00m:\n\u001B[0;32m     69\u001B[0m   \u001B[38;5;28;01mdel\u001B[39;00m filtered_tb\n",
      "File \u001B[1;32m~\\AppData\\Local\\Temp\\__autograph_generated_fileboik9jmg.py:15\u001B[0m, in \u001B[0;36mouter_factory.<locals>.inner_factory.<locals>.tf__train_function\u001B[1;34m(iterator)\u001B[0m\n\u001B[0;32m     13\u001B[0m \u001B[38;5;28;01mtry\u001B[39;00m:\n\u001B[0;32m     14\u001B[0m     do_return \u001B[38;5;241m=\u001B[39m \u001B[38;5;28;01mTrue\u001B[39;00m\n\u001B[1;32m---> 15\u001B[0m     retval_ \u001B[38;5;241m=\u001B[39m ag__\u001B[38;5;241m.\u001B[39mconverted_call(ag__\u001B[38;5;241m.\u001B[39mld(step_function), (ag__\u001B[38;5;241m.\u001B[39mld(\u001B[38;5;28mself\u001B[39m), ag__\u001B[38;5;241m.\u001B[39mld(iterator)), \u001B[38;5;28;01mNone\u001B[39;00m, fscope)\n\u001B[0;32m     16\u001B[0m \u001B[38;5;28;01mexcept\u001B[39;00m:\n\u001B[0;32m     17\u001B[0m     do_return \u001B[38;5;241m=\u001B[39m \u001B[38;5;28;01mFalse\u001B[39;00m\n",
      "\u001B[1;31mValueError\u001B[0m: in user code:\n\n    File \"C:\\Users\\soumy\\anaconda3\\lib\\site-packages\\keras\\engine\\training.py\", line 1051, in train_function  *\n        return step_function(self, iterator)\n    File \"C:\\Users\\soumy\\anaconda3\\lib\\site-packages\\keras\\engine\\training.py\", line 1040, in step_function  **\n        outputs = model.distribute_strategy.run(run_step, args=(data,))\n    File \"C:\\Users\\soumy\\anaconda3\\lib\\site-packages\\keras\\engine\\training.py\", line 1030, in run_step  **\n        outputs = model.train_step(data)\n    File \"C:\\Users\\soumy\\anaconda3\\lib\\site-packages\\keras\\engine\\training.py\", line 890, in train_step\n        loss = self.compute_loss(x, y, y_pred, sample_weight)\n    File \"C:\\Users\\soumy\\anaconda3\\lib\\site-packages\\keras\\engine\\training.py\", line 948, in compute_loss\n        return self.compiled_loss(\n    File \"C:\\Users\\soumy\\anaconda3\\lib\\site-packages\\keras\\engine\\compile_utils.py\", line 201, in __call__\n        loss_value = loss_obj(y_t, y_p, sample_weight=sw)\n    File \"C:\\Users\\soumy\\anaconda3\\lib\\site-packages\\keras\\losses.py\", line 139, in __call__\n        losses = call_fn(y_true, y_pred)\n    File \"C:\\Users\\soumy\\anaconda3\\lib\\site-packages\\keras\\losses.py\", line 243, in call  **\n        return ag_fn(y_true, y_pred, **self._fn_kwargs)\n    File \"C:\\Users\\soumy\\anaconda3\\lib\\site-packages\\keras\\losses.py\", line 1787, in categorical_crossentropy\n        return backend.categorical_crossentropy(\n    File \"C:\\Users\\soumy\\anaconda3\\lib\\site-packages\\keras\\backend.py\", line 5119, in categorical_crossentropy\n        target.shape.assert_is_compatible_with(output.shape)\n\n    ValueError: Shapes (None, 1) and (None, 5) are incompatible\n"
     ]
    }
   ],
   "source": [
    "es = EarlyStopping(monitor='val_loss', patience=10, verbose=1, mode='min', restore_best_weights=True)\n",
    "history = pt_model.fit(train_generator, epochs=100, validation_data=test_generator, callbacks=[es])"
   ],
   "metadata": {
    "collapsed": false
   }
  },
  {
   "cell_type": "code",
   "execution_count": null,
   "outputs": [],
   "source": [],
   "metadata": {
    "collapsed": false
   }
  }
 ],
 "metadata": {
  "kernelspec": {
   "display_name": "Python 3",
   "language": "python",
   "name": "python3"
  },
  "language_info": {
   "codemirror_mode": {
    "name": "ipython",
    "version": 2
   },
   "file_extension": ".py",
   "mimetype": "text/x-python",
   "name": "python",
   "nbconvert_exporter": "python",
   "pygments_lexer": "ipython2",
   "version": "2.7.6"
  }
 },
 "nbformat": 4,
 "nbformat_minor": 0
}
