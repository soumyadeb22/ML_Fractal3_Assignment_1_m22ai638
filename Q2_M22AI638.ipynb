{
 "cells": [
  {
   "cell_type": "code",
   "execution_count": 87,
   "metadata": {
    "collapsed": true
   },
   "outputs": [],
   "source": [
    "\n",
    "import numpy as np\n",
    "import tensorflow as tf\n",
    "from tensorflow import keras\n",
    "\n",
    "from matplotlib import pyplot as plt\n",
    "%matplotlib inline\n",
    "import os\n",
    "\n",
    "\n",
    "\n",
    "import  seaborn as sn\n",
    "import cv2"
   ]
  },
  {
   "cell_type": "code",
   "execution_count": 88,
   "outputs": [],
   "source": [
    "\n",
    "train_path = 'C:\\\\Users\\\\soumy\\\\Documents\\\\Coading\\\\Q2\\\\'\n",
    "val_path = 'C:\\\\Users\\\\soumy\\\\Documents\\\\Coading\\\\Q2\\\\'\n"
   ],
   "metadata": {
    "collapsed": false
   }
  },
  {
   "cell_type": "code",
   "execution_count": 89,
   "outputs": [],
   "source": [
    "#looping through each train folder\n",
    "img_size = (32, 32)\n",
    "\n",
    "images_t = []\n",
    "labels_t = []\n",
    "\n",
    "for label in range(10):\n",
    "    folder_path = os.path.join(train_path, 'train', str(label))\n",
    "\n",
    "    for file in os.listdir(folder_path):\n",
    "        file_path = os.path.join(folder_path, file)\n",
    "        if file_path.endswith(('.tiff','.bmp')):\n",
    "\n",
    "            img = cv2.imread(file_path, cv2.IMREAD_GRAYSCALE)\n",
    "            img = cv2.resize(img, img_size)\n",
    "\n",
    "            images_t.append(img)\n",
    "            labels_t.append(label)\n",
    "\n",
    "images = np.array(images_t)\n",
    "labels = np.array(labels_t)\n",
    "\n",
    "np.save('x_train.npy', images_t)\n",
    "np.save('y_train.npy', labels_t)"
   ],
   "metadata": {
    "collapsed": false
   }
  },
  {
   "cell_type": "code",
   "execution_count": 90,
   "outputs": [],
   "source": [
    "#looping through each val folder and storing the images as a numpy array\n",
    "img_size_val = (32, 32)\n",
    "\n",
    "images_v = []\n",
    "labels_v = []\n",
    "\n",
    "for label in range(10):\n",
    "    folder_path = os.path.join(val_path, 'val\\\\', str(label))\n",
    "\n",
    "\n",
    "    for file in os.listdir(folder_path):\n",
    "        file_path = os.path.join(folder_path, file)\n",
    "        if file_path.endswith(('.tiff','.bmp')):\n",
    "\n",
    "            img = cv2.imread(file_path, cv2.IMREAD_GRAYSCALE)\n",
    "            img = cv2.resize(img, img_size_val)\n",
    "\n",
    "            images_v.append(img)\n",
    "            labels_v.append(label)\n",
    "\n",
    "images_val = np.array(images_v)\n",
    "labels_val = np.array(labels_v)\n",
    "\n",
    "np.save('x_test.npy', images_v)\n",
    "np.save('y_test.npy', labels_v)"
   ],
   "metadata": {
    "collapsed": false
   }
  },
  {
   "cell_type": "code",
   "execution_count": 91,
   "outputs": [],
   "source": [
    "x_train = np.load('x_train.npy')\n",
    "y_train = np.load('y_train.npy')\n",
    "x_test = np.load('x_test.npy')\n",
    "y_test = np.load('y_test.npy')"
   ],
   "metadata": {
    "collapsed": false
   }
  },
  {
   "cell_type": "code",
   "execution_count": 92,
   "outputs": [
    {
     "name": "stdout",
     "output_type": "stream",
     "text": [
      "1000\n",
      "178\n"
     ]
    }
   ],
   "source": [
    "print(len(x_train))\n",
    "print(len(x_test))"
   ],
   "metadata": {
    "collapsed": false
   }
  },
  {
   "cell_type": "code",
   "execution_count": 93,
   "outputs": [
    {
     "data": {
      "text/plain": "(32, 32)"
     },
     "execution_count": 93,
     "metadata": {},
     "output_type": "execute_result"
    }
   ],
   "source": [
    "x_train[0].shape"
   ],
   "metadata": {
    "collapsed": false
   }
  },
  {
   "cell_type": "code",
   "execution_count": 94,
   "outputs": [
    {
     "data": {
      "text/plain": "array([[255, 255, 255, ..., 255, 255, 255],\n       [255, 255, 255, ..., 255, 255, 255],\n       [255, 255, 255, ..., 255, 255, 255],\n       ...,\n       [255, 255,   0, ..., 255, 255, 255],\n       [255, 255, 255, ..., 255, 255, 255],\n       [255, 255, 255, ..., 255, 255, 255]], dtype=uint8)"
     },
     "execution_count": 94,
     "metadata": {},
     "output_type": "execute_result"
    }
   ],
   "source": [
    "x_train[0]"
   ],
   "metadata": {
    "collapsed": false
   }
  },
  {
   "cell_type": "code",
   "execution_count": 95,
   "outputs": [
    {
     "data": {
      "text/plain": "<matplotlib.image.AxesImage at 0x2120a000760>"
     },
     "execution_count": 95,
     "metadata": {},
     "output_type": "execute_result"
    },
    {
     "data": {
      "text/plain": "<Figure size 288x288 with 1 Axes>",
      "image/png": "[encoded data removed]"
     },
     "metadata": {
      "needs_background": "light"
     },
     "output_type": "display_data"
    }
   ],
   "source": [
    "plt.matshow(x_train[111])"
   ],
   "metadata": {
    "collapsed": false
   }
  },
  {
   "cell_type": "code",
   "execution_count": 96,
   "outputs": [
    {
     "data": {
      "text/plain": "(1000, 32, 32)"
     },
     "execution_count": 96,
     "metadata": {},
     "output_type": "execute_result"
    }
   ],
   "source": [
    "x_train.shape"
   ],
   "metadata": {
    "collapsed": false
   }
  },
  {
   "cell_type": "code",
   "execution_count": 97,
   "outputs": [],
   "source": [
    "#Scaling the data\n",
    "x_train = x_train/255\n",
    "x_test = x_test/255"
   ],
   "metadata": {
    "collapsed": false
   }
  },
  {
   "cell_type": "code",
   "execution_count": 98,
   "outputs": [],
   "source": [
    "#Flattening the data\n",
    "x_train_flat = x_train.reshape(len(x_train),32*32)\n",
    "x_test_flat = x_test.reshape(len(x_test),32*32)"
   ],
   "metadata": {
    "collapsed": false
   }
  },
  {
   "cell_type": "code",
   "execution_count": 99,
   "outputs": [
    {
     "data": {
      "text/plain": "(1000, 1024)"
     },
     "execution_count": 99,
     "metadata": {},
     "output_type": "execute_result"
    }
   ],
   "source": [
    "x_train_flat.shape"
   ],
   "metadata": {
    "collapsed": false
   }
  },
  {
   "cell_type": "code",
   "execution_count": 100,
   "outputs": [
    {
     "name": "stdout",
     "output_type": "stream",
     "text": [
      "Epoch 1/5\n",
      "32/32 [==============================] - 0s 2ms/step - loss: 1.4652 - accuracy: 0.5610\n",
      "Epoch 2/5\n",
      "32/32 [==============================] - 0s 1ms/step - loss: 0.5170 - accuracy: 0.9000\n",
      "Epoch 3/5\n",
      "32/32 [==============================] - 0s 1ms/step - loss: 0.3218 - accuracy: 0.9320\n",
      "Epoch 4/5\n",
      "32/32 [==============================] - 0s 1ms/step - loss: 0.2444 - accuracy: 0.9470\n",
      "Epoch 5/5\n",
      "32/32 [==============================] - 0s 1ms/step - loss: 0.1974 - accuracy: 0.9610\n"
     ]
    },
    {
     "data": {
      "text/plain": "<keras.callbacks.History at 0x21208eea6a0>"
     },
     "execution_count": 100,
     "metadata": {},
     "output_type": "execute_result"
    }
   ],
   "source": [
    "#Creating a simple neural network (without any hidden layer)\n",
    "\n",
    "\n",
    "model = keras.Sequential([\n",
    "    keras.layers.Dense(10,input_shape=(1024,) , activation='sigmoid')\n",
    "])\n",
    "\n",
    "model.compile(\n",
    "    optimizer = 'adam',\n",
    "    loss = 'sparse_categorical_crossentropy',\n",
    "    metrics = ['accuracy']\n",
    ")\n",
    "\n",
    "model.fit(x_train_flat,y_train,epochs=5)"
   ],
   "metadata": {
    "collapsed": false
   }
  },
  {
   "cell_type": "code",
   "execution_count": 101,
   "outputs": [
    {
     "name": "stdout",
     "output_type": "stream",
     "text": [
      "6/6 [==============================] - 0s 997us/step - loss: 0.3702 - accuracy: 0.8933\n"
     ]
    },
    {
     "data": {
      "text/plain": "[0.3702394664287567, 0.8932584524154663]"
     },
     "execution_count": 101,
     "metadata": {},
     "output_type": "execute_result"
    }
   ],
   "source": [
    "model.evaluate(x_test_flat,y_test)"
   ],
   "metadata": {
    "collapsed": false
   }
  },
  {
   "cell_type": "code",
   "execution_count": 102,
   "outputs": [
    {
     "data": {
      "text/plain": "<matplotlib.image.AxesImage at 0x2120b335790>"
     },
     "execution_count": 102,
     "metadata": {},
     "output_type": "execute_result"
    },
    {
     "data": {
      "text/plain": "<Figure size 288x288 with 1 Axes>",
      "image/png": "[encoded data removed]"
     },
     "metadata": {
      "needs_background": "light"
     },
     "output_type": "display_data"
    }
   ],
   "source": [
    "#Prediction test\n",
    "plt.matshow((x_test[0]))"
   ],
   "metadata": {
    "collapsed": false
   }
  },
  {
   "cell_type": "code",
   "execution_count": 103,
   "outputs": [
    {
     "name": "stdout",
     "output_type": "stream",
     "text": [
      "6/6 [==============================] - 0s 798us/step\n"
     ]
    },
    {
     "data": {
      "text/plain": "array([0.9947816 , 0.3708585 , 0.44862112, 0.10684846, 0.19478726,\n       0.1688925 , 0.04583758, 0.28237212, 0.38704246, 0.19693345],\n      dtype=float32)"
     },
     "execution_count": 103,
     "metadata": {},
     "output_type": "execute_result"
    }
   ],
   "source": [
    "y_prediction = model.predict(x_test_flat)\n",
    "y_prediction[0]"
   ],
   "metadata": {
    "collapsed": false
   }
  },
  {
   "cell_type": "code",
   "execution_count": 104,
   "outputs": [
    {
     "data": {
      "text/plain": "0"
     },
     "execution_count": 104,
     "metadata": {},
     "output_type": "execute_result"
    }
   ],
   "source": [
    "np.argmax(y_prediction[1])\n",
    "#We are getting correct result"
   ],
   "metadata": {
    "collapsed": false
   }
  },
  {
   "cell_type": "code",
   "execution_count": 105,
   "outputs": [],
   "source": [
    "y_predicted_labels = [np.argmax(i) for i in y_prediction]"
   ],
   "metadata": {
    "collapsed": false
   }
  },
  {
   "cell_type": "code",
   "execution_count": 106,
   "outputs": [
    {
     "data": {
      "text/plain": "<tf.Tensor: shape=(10, 10), dtype=int32, numpy=\narray([[18,  0,  0,  0,  0,  0,  0,  0,  0,  0],\n       [ 0, 12,  0,  0,  0,  0,  0,  4,  0,  0],\n       [ 0,  0, 14,  1,  1,  0,  0,  1,  0,  0],\n       [ 0,  0,  3, 12,  1,  0,  1,  0,  0,  0],\n       [ 0,  0,  0,  0, 18,  0,  0,  0,  0,  0],\n       [ 0,  0,  1,  0,  0, 17,  0,  0,  0,  0],\n       [ 0,  0,  0,  0,  0,  0, 18,  0,  0,  0],\n       [ 0,  3,  0,  0,  0,  0,  0, 15,  0,  0],\n       [ 0,  0,  0,  0,  0,  0,  1,  0, 17,  0],\n       [ 0,  0,  0,  0,  0,  0,  2,  0,  0, 18]])>"
     },
     "execution_count": 106,
     "metadata": {},
     "output_type": "execute_result"
    }
   ],
   "source": [
    "cm = tf.math.confusion_matrix(labels=y_test,predictions=y_predicted_labels)\n",
    "cm"
   ],
   "metadata": {
    "collapsed": false
   }
  },
  {
   "cell_type": "code",
   "execution_count": 107,
   "outputs": [
    {
     "data": {
      "text/plain": "Text(70.0, 0.5, 'Actual')"
     },
     "execution_count": 107,
     "metadata": {},
     "output_type": "execute_result"
    },
    {
     "data": {
      "text/plain": "<Figure size 720x720 with 2 Axes>",
      "image/png": "[encoded data removed]"
     },
     "metadata": {
      "needs_background": "light"
     },
     "output_type": "display_data"
    }
   ],
   "source": [
    "plt.figure(figsize = (10,10))\n",
    "sn.heatmap(cm,annot=True,fmt='d')\n",
    "plt.xlabel('Predicted')\n",
    "plt.ylabel('Actual')"
   ],
   "metadata": {
    "collapsed": false
   }
  },
  {
   "cell_type": "markdown",
   "source": [
    "Now Adding a Hidden layer testing the same"
   ],
   "metadata": {
    "collapsed": false
   }
  },
  {
   "cell_type": "code",
   "execution_count": 130,
   "outputs": [],
   "source": [
    "import numpy as np\n",
    "\n",
    "class Dense:\n",
    "    def __init__(self, units, input_dim, activation=None):\n",
    "        self.units = units\n",
    "        self.input_dim = input_dim\n",
    "        self.activation = activation\n",
    "\n",
    "        self.W = np.random.randn(input_dim, units) * np.sqrt(1 / input_dim)\n",
    "        self.b = np.zeros((1, units))\n",
    "\n",
    "    def forward(self, X):\n",
    "        self.Z = np.dot(X, self.W) + self.b\n",
    "\n",
    "        if self.activation == 'sigmoid':\n",
    "            return 1 / (1 + np.exp(-self.Z))\n",
    "        elif self.activation == 'softmax':\n",
    "            expZ = np.exp(self.Z - np.max(self.Z, axis=1, keepdims=True))\n",
    "            return expZ / np.sum(expZ, axis=1, keepdims=True)\n",
    "        else:\n",
    "            return self.Z\n",
    "\n",
    "    def backward(self, X, dZ):\n",
    "        dW = np.dot(X.T, dZ)\n",
    "        db = np.sum(dZ, axis=0, keepdims=True)\n",
    "        dX = np.dot(dZ, self.W.T)\n",
    "        return dW, db, dX\n",
    "\n",
    "class Sequential:\n",
    "    def __init__(self, layers):\n",
    "        self.layers = layers\n",
    "\n",
    "    def forward(self, X):\n",
    "        for layer in self.layers:\n",
    "            X = layer.forward(X)\n",
    "        return X\n",
    "\n",
    "    def backward(self, X, y):\n",
    "        dZ = self.loss.backward(self.output, y)\n",
    "        for layer in reversed(self.layers):\n",
    "            dW, db, dZ = layer.backward(layer.input, dZ)\n",
    "            layer.W -= self.lr * dW\n",
    "            layer.b -= self.lr * db\n",
    "\n",
    "    def compile(self, optimizer, loss, metrics):\n",
    "        self.optimizer = optimizer\n",
    "        self.loss = loss\n",
    "        self.metrics = metrics\n",
    "\n",
    "    def fit(self, X, y, epochs, batch_size):\n",
    "        self.lr = self.optimizer.lr\n",
    "        self.batch_size = batch_size\n",
    "\n",
    "        for i in range(epochs):\n",
    "            epoch_loss = 0.0\n",
    "            epoch_accuracy = 0.0\n",
    "\n",
    "            for j in range(0, X.shape[0], batch_size):\n",
    "                batch_X = X[j:j+batch_size]\n",
    "                batch_y = y[j:j+batch_size]\n",
    "\n",
    "                self.output = self.forward(batch_X)\n",
    "                epoch_loss += self.loss.forward(self.output, batch_y)\n",
    "                epoch_accuracy += np.sum(np.argmax(self.output, axis=1) == batch_y)\n",
    "\n",
    "                self.backward(batch_X, batch_y)\n",
    "\n",
    "            epoch_loss /= X.shape[0]\n",
    "            epoch_accuracy /= X.shape[0]\n",
    "\n",
    "            print(f'Epoch {i+1}/{epochs} - loss: {epoch_loss:.4f} - accuracy: {epoch_accuracy:.4f}')\n",
    "\n",
    "\n"
   ],
   "metadata": {
    "collapsed": false
   }
  }
 ],
 "metadata": {
  "kernelspec": {
   "display_name": "Python 3",
   "language": "python",
   "name": "python3"
  },
  "language_info": {
   "codemirror_mode": {
    "name": "ipython",
    "version": 2
   },
   "file_extension": ".py",
   "mimetype": "text/x-python",
   "name": "python",
   "nbconvert_exporter": "python",
   "pygments_lexer": "ipython2",
   "version": "2.7.6"
  }
 },
 "nbformat": 4,
 "nbformat_minor": 0
}
